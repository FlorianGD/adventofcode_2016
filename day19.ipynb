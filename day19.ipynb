{
 "cells": [
  {
   "cell_type": "markdown",
   "metadata": {},
   "source": [
    "# AoC 2016: Day 19\n",
    "## Part 2"
   ]
  },
  {
   "cell_type": "code",
   "execution_count": null,
   "metadata": {},
   "outputs": [],
   "source": [
    "import pandas as pd\n",
    "import altair as alt\n",
    "from itertools import compress, cycle\n",
    "from collections import deque\n",
    "from math import log\n",
    "\n",
    "INPUT = 3014603"
   ]
  },
  {
   "cell_type": "markdown",
   "metadata": {},
   "source": [
    "Let's build a function to compute the result, for small numbers. This will be useful to gain some intuition for the problem, and build a dataset. I will translate the program quite litteraly, using `collections.deque` to rotate the list, and poping the last element. This would take 5 hours to use this function to compute the result, but it won't be necessary."
   ]
  },
  {
   "cell_type": "code",
   "execution_count": null,
   "metadata": {},
   "outputs": [],
   "source": [
    "def last_elf_p2(num_elves: int) -> int:\n",
    "    \"\"\"Find part 2 for small num_elves.\"\"\"\n",
    "    elves = deque(range(1, num_elves + 1))\n",
    "    while len(elves) > 1:\n",
    "        middle = len(elves) // 2\n",
    "        elves.rotate(-middle - 1)\n",
    "        elves.pop()\n",
    "        elves.rotate(middle - 1)\n",
    "    return elves.pop()\n",
    "\n",
    "\n",
    "last_elf_p2(5)"
   ]
  },
  {
   "cell_type": "markdown",
   "metadata": {},
   "source": [
    "The function gives the correct answer, so we will build a dataset and plot the result to gain some intuition."
   ]
  },
  {
   "cell_type": "code",
   "execution_count": null,
   "metadata": {},
   "outputs": [],
   "source": [
    "df = pd.DataFrame({'x':range(1, 500)})\n",
    "df['y'] = df['x'].apply(last_elf_p2)"
   ]
  },
  {
   "cell_type": "code",
   "execution_count": null,
   "metadata": {},
   "outputs": [],
   "source": [
    "chart = alt.Chart(df).mark_point().encode(\n",
    "    x='x:Q',\n",
    "    y='y:Q',\n",
    "    color='group:N',\n",
    "    tooltip=['x:Q', 'y:Q', 'group:N']\n",
    ").interactive()"
   ]
  },
  {
   "cell_type": "code",
   "execution_count": null,
   "metadata": {},
   "outputs": [],
   "source": [
    "chart"
   ]
  },
  {
   "cell_type": "markdown",
   "metadata": {},
   "source": [
    "We see that for some part of the graph, the slope seems to be `1` and for other, this is `2`. And there are some breakpoints, where the result goes back to one. Let's see where the breakpoints are"
   ]
  },
  {
   "cell_type": "code",
   "execution_count": null,
   "metadata": {},
   "outputs": [],
   "source": [
    "df['diff'] = df['y'] - df['y'].shift(1, fill_value=0)\n",
    "df['group'] = 'breakpoint'\n",
    "df.loc[df['diff'] == 1, 'group'] = 'y=x'\n",
    "df.loc[df['diff'] == 2, 'group'] = 'y=2x'"
   ]
  },
  {
   "cell_type": "code",
   "execution_count": null,
   "metadata": {},
   "outputs": [],
   "source": [
    "chart"
   ]
  },
  {
   "cell_type": "markdown",
   "metadata": {},
   "source": [
    "What it seems is that the breakpoints are exponentially distributed, and that the slope changes in the middle of the interval, at the same value than the preceding max."
   ]
  },
  {
   "cell_type": "code",
   "execution_count": null,
   "metadata": {},
   "outputs": [],
   "source": [
    "df.query('group == \"breakpoint\"')"
   ]
  },
  {
   "cell_type": "code",
   "execution_count": null,
   "metadata": {},
   "outputs": [],
   "source": [
    "df.query('group == \"breakpoint\"').index.values"
   ]
  },
  {
   "cell_type": "code",
   "execution_count": null,
   "metadata": {},
   "outputs": [],
   "source": [
    "[3**i for i in range(6)]"
   ]
  },
  {
   "cell_type": "markdown",
   "metadata": {},
   "source": [
    "What is interesting is that the index are the succeding power of 3 : $x_{breakpoint} = 3^n + 1$. (+1 because x is shiftd by one from the index.)"
   ]
  },
  {
   "cell_type": "markdown",
   "metadata": {},
   "source": [
    "The points where the slope changes are in the middle of the interval : $x_{slope\\ change} = 3^n - 3^{n-1} = 2 * 3^{n-1}$."
   ]
  },
  {
   "cell_type": "code",
   "execution_count": null,
   "metadata": {},
   "outputs": [],
   "source": [
    "df.query('group == \"y=2x\" and group.shift(1) == \"y=x\"').index.values"
   ]
  },
  {
   "cell_type": "code",
   "execution_count": null,
   "metadata": {},
   "outputs": [],
   "source": [
    "[2 * 3**i for i in range(1, 6)]"
   ]
  },
  {
   "cell_type": "markdown",
   "metadata": {},
   "source": [
    "So, we need to figure out where in term of succeding power of 3 we are with our input, and in which half of the interval."
   ]
  },
  {
   "cell_type": "code",
   "execution_count": null,
   "metadata": {},
   "outputs": [],
   "source": [
    "log(INPUT)/log(3)"
   ]
  },
  {
   "cell_type": "code",
   "execution_count": null,
   "metadata": {},
   "outputs": [],
   "source": [
    "INPUT <= 2 * 3**13"
   ]
  },
  {
   "cell_type": "markdown",
   "metadata": {},
   "source": [
    "This means that the `INPUT` is in the first part of the curve : $y=x$."
   ]
  },
  {
   "cell_type": "code",
   "execution_count": null,
   "metadata": {},
   "outputs": [],
   "source": [
    "INPUT - 3**13"
   ]
  },
  {
   "cell_type": "markdown",
   "metadata": {},
   "source": [
    "And this is the correct answer !"
   ]
  },
  {
   "cell_type": "code",
   "execution_count": null,
   "metadata": {},
   "outputs": [],
   "source": [
    "def last_elf_p2_exact(num_elves: int) -> int:\n",
    "    n_pow = int(log(num_elves)/log(3))\n",
    "    if num_elves == 3 **n_pow:\n",
    "        return num_elves\n",
    "    elif num_elves < 2 * 3**n_pow:\n",
    "        return num_elves - 3**n_pow\n",
    "    else:\n",
    "        return 2 * num_elves - 3**(n_pow + 1)"
   ]
  },
  {
   "cell_type": "code",
   "execution_count": null,
   "metadata": {},
   "outputs": [],
   "source": [
    "last_elf_p2_exact(INPUT)"
   ]
  },
  {
   "cell_type": "code",
   "execution_count": null,
   "metadata": {},
   "outputs": [],
   "source": [
    "df['check'] = df['x'].apply(last_elf_p2_exact)"
   ]
  },
  {
   "cell_type": "code",
   "execution_count": null,
   "metadata": {},
   "outputs": [],
   "source": [
    "all(df['check'] == df['y'])"
   ]
  }
 ],
 "metadata": {
  "kernelspec": {
   "display_name": "Python 3",
   "language": "python",
   "name": "python3"
  },
  "language_info": {
   "codemirror_mode": {
    "name": "ipython",
    "version": 3
   },
   "file_extension": ".py",
   "mimetype": "text/x-python",
   "name": "python",
   "nbconvert_exporter": "python",
   "pygments_lexer": "ipython3",
   "version": "3.7.2"
  },
  "toc": {
   "nav_menu": {},
   "number_sections": true,
   "sideBar": true,
   "skip_h1_title": false,
   "title_cell": "Table of Contents",
   "title_sidebar": "Contents",
   "toc_cell": false,
   "toc_position": {},
   "toc_section_display": true,
   "toc_window_display": false
  }
 },
 "nbformat": 4,
 "nbformat_minor": 2
}
